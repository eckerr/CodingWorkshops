{
 "cells": [
  {
   "cell_type": "markdown",
   "metadata": {},
   "source": [
    "# Data Analysis and visualization for tracking developer productivity\n",
    "\n",
    "Chipy's mentorship program is an extra-ordinary jounery for becoming a better developer. As a mentee, you are expected to do a lot - you read new articles/books, write code, debug and troubleshoot, pair program with other mentees in coding workshop or your mentor. This is involves managing time efficiently and doing the effective things. But as the old adage goes, \"you can't manage what you can't measure\".\n",
    "\n",
    "This project is the third of the three part series of building tools for the mentees for tracking time. The end goal of such a tool will be to aggregate anonymous data and analyze how does a typical mentee spend on blogging (b), coding (c), debugging (d), pair program (p) with mentor or other mentees.\n",
    "\n",
    "In this project we will be using `pandas` to analyze the data gathered by using the command line tool we built in the first part of the series. We will also be using `altair`, a visualization library to do some exploratory analysis of the data.\n",
    "\n",
    "Short url for this page: http://bit.ly/data_trackcoder"
   ]
  },
  {
   "cell_type": "markdown",
   "metadata": {},
   "source": [
    "##  Is this project for you\n",
    "\n",
    "Before you progress further, let's check if we are ready to solve this. You should\n",
    "\n",
    "- Have a personal computer with working wifi and power cord\n",
    "- Have Python 3 installed on your computer. *Yes, **Python 3** only* 😎\n",
    "- Have some idea about lists, dictionaries and functions\n",
    "- Have created a virtual environment and installing packages with `pip`\n",
    "\n",
    "In addition, you should be familiar with [Part 1](https://github.com/chicagopython/CodingWorkshops/tree/master/problems/py101/trackcoder), and [Part 2](https://bit.ly/flask_trackcoder) of this three part exercise."
   ]
  },
  {
   "cell_type": "markdown",
   "metadata": {},
   "source": [
    "## Getting the project setup in your computer\n",
    "If you are familiar with git, run\n",
    "\n",
    "\n",
    "```\n",
    "git clone https://github.com/chicagopython/CodingWorkshops.git\n",
    "```\n",
    "\n",
    "If not, go to https://github.com/chicagopython/CodingWorkshops\n",
    "\n",
    "Click on the Download Zip and unzip the file that gets downloaded.\n",
    "\n",
    "From your command line (terminal in mac osx, or linux and command prompt in windows), change directory to the path where you have downloaded it.\n",
    "\n",
    "\n",
    "    On linux or OS X\n",
    "\n",
    "      > cd path/to/CodingWorkshops/problems/data_science/\n",
    "\n",
    "    On Windows\n",
    "\n",
    "      > cd path\\to\\CodingWorkshops\\problems\\data_science\n",
    "\n",
    "### Check if you have the latest notebook\n",
    "\n",
    "If you have downloaded the notebook before the event of the Project Night, you have downloaded the notebook with only materials to review for project night without the actual problems. The actual problems will be released 2 hours before the event. Please update your notebook in order to get the challenge questions.\n",
    "\n",
    "In that directory, run the following command\n",
    "\n",
    "    git pull\n",
    "\n",
    "\n",
    "### Installation of Required packages\n",
    "\n",
    "The following packages are needed for this project.\n",
    "\n",
    "```\n",
    "numpy==1.14.2\n",
    "pandas==0.22.0\n",
    "python-dateutil==2.7.2\n",
    "pytz==2018.4\n",
    "scikit-learn==0.19.1\n",
    "scipy==1.0.1\n",
    "six==1.11.0\n",
    "sklearn==0.20.0\n",
    "altair==2.2.2 \n",
    "```\n",
    "These packages are listed in the file `requirements.txt` in this directory.\n",
    "From a terminal (in mac ox or linux) or command prompt (windows), install them using the following command.\n",
    "\n",
    "```\n",
    "pip install -r requirements.txt\n",
    "```\n",
    "\n",
    "Once the installation completed, start Jupyter notebook by issuing the command.\n",
    "    \n",
    "    > jupyter notebook\n",
    "\n",
    "Running the following command here will open up a browser (http://localhost:8888)  and display all the notebooks under this directory.\n",
    "Double click to open the `trackcoder` notebook.\n",
    "\n",
    "Next execute the cell below by hitting `Shift + Enter`."
   ]
  },
  {
   "cell_type": "code",
   "execution_count": null,
   "metadata": {},
   "outputs": [],
   "source": [
    "import pandas"
   ]
  },
  {
   "cell_type": "markdown",
   "metadata": {},
   "source": [
    "If the above line executes without any error, then congratulations 🎉 - you have successfully installed everything, and ready to get started."
   ]
  },
  {
   "cell_type": "markdown",
   "metadata": {},
   "source": [
    "## Getting Started with Pandas"
   ]
  },
  {
   "cell_type": "markdown",
   "metadata": {},
   "source": [
    "### Loading pandas"
   ]
  },
  {
   "cell_type": "markdown",
   "metadata": {},
   "source": [
    "We will start off with an gentle introduction to `pandas` that is mostly taken from the [wonderful 10 minutes guide](https://pandas.pydata.org/pandas-docs/stable/10min.html). Lets start by importing the necessary packages."
   ]
  },
  {
   "cell_type": "code",
   "execution_count": null,
   "metadata": {},
   "outputs": [],
   "source": [
    "import pandas as pd\n",
    "import numpy as np"
   ]
  },
  {
   "cell_type": "markdown",
   "metadata": {},
   "source": [
    "### Pandas Series and Dataframe"
   ]
  },
  {
   "cell_type": "markdown",
   "metadata": {},
   "source": [
    "#### Series"
   ]
  },
  {
   "cell_type": "markdown",
   "metadata": {},
   "source": [
    "A pandas `Series` is a one-dimensional labeled array capable of holding any data type. The axis labels are collectively referred to as the index. Lets create `series` from the different task types that we have defined in [Part 1](https://github.com/chicagopython/CodingWorkshops/tree/master/problems/py101/trackcoder#181-interactive-mode)."
   ]
  },
  {
   "cell_type": "code",
   "execution_count": null,
   "metadata": {},
   "outputs": [],
   "source": [
    "description = pd.Series(data=['blogging','coding','debugging','mentor','pair_programming', 'research'], \n",
    "                        index=['b', 'c', 'd','m','p','r'])\n",
    "print(f\"data: {description.values}\\nindex: {description.index}\")"
   ]
  },
  {
   "cell_type": "markdown",
   "metadata": {},
   "source": [
    "#### DataFrame"
   ]
  },
  {
   "cell_type": "markdown",
   "metadata": {},
   "source": [
    "A pandas `DataFrame` is a 2-dimensional labeled data structure where the columns can be of different data types. \n",
    "\n",
    "Lets create another series with number of minutes and same indexes as that of `description`."
   ]
  },
  {
   "cell_type": "code",
   "execution_count": null,
   "metadata": {},
   "outputs": [],
   "source": [
    "mins = pd.Series([100,100,200,50,50,300], ['b', 'c', 'd', 'm', 'p', 'r'])"
   ]
  },
  {
   "cell_type": "markdown",
   "metadata": {},
   "source": [
    "Now lets create a dataframe using `description` and `mins`."
   ]
  },
  {
   "cell_type": "code",
   "execution_count": null,
   "metadata": {},
   "outputs": [],
   "source": [
    "d = {'description': description, 'mins': mins}\n",
    "\n",
    "frame = pd.DataFrame(d)\n",
    "frame"
   ]
  },
  {
   "cell_type": "markdown",
   "metadata": {},
   "source": [
    "### Loading the data"
   ]
  },
  {
   "cell_type": "markdown",
   "metadata": {},
   "source": [
    "Next we will load the data present in the sqlite database in the folder `CodingWorkshops/problems/py101/trackcoder/`. If you choose to use a different dataset, all you need to do is change the value of `db` to the path of your file."
   ]
  },
  {
   "cell_type": "code",
   "execution_count": null,
   "metadata": {},
   "outputs": [],
   "source": [
    "db=\"../py101/trackcoder/to_do_list.db\""
   ]
  },
  {
   "cell_type": "code",
   "execution_count": null,
   "metadata": {},
   "outputs": [],
   "source": [
    "import sqlite3\n",
    "conn = sqlite3.connect(db)\n",
    "df = pd.read_sql_query(\"select * from todo\", conn)"
   ]
  },
  {
   "cell_type": "markdown",
   "metadata": {},
   "source": [
    "### Viewing the data"
   ]
  },
  {
   "cell_type": "code",
   "execution_count": null,
   "metadata": {},
   "outputs": [],
   "source": [
    "df.head() #first 5 rows"
   ]
  },
  {
   "cell_type": "code",
   "execution_count": null,
   "metadata": {},
   "outputs": [],
   "source": [
    "df.tail() # last 5 rows"
   ]
  },
  {
   "cell_type": "markdown",
   "metadata": {},
   "source": [
    "### Fix data type"
   ]
  },
  {
   "cell_type": "markdown",
   "metadata": {},
   "source": [
    "Pandas has the following data types."
   ]
  },
  {
   "cell_type": "markdown",
   "metadata": {},
   "source": [
    "```\n",
    "object\n",
    "int64\n",
    "float64\n",
    "bool\n",
    "datetime64\n",
    "timedelta[ns]\n",
    "category\n",
    "```"
   ]
  },
  {
   "cell_type": "markdown",
   "metadata": {},
   "source": [
    "Notice that when we imported the data from our sqlite database, all the columns got imported as objects. Lets fix this by editing the data type of the column inplace, i.e. modify the data frame so that beyond this point this change will persist for the dataframe."
   ]
  },
  {
   "cell_type": "code",
   "execution_count": null,
   "metadata": {},
   "outputs": [],
   "source": [
    "df['timestamp'] = df['timestamp'].astype('datetime64[ns]')\n",
    "df['done'] = df['done'].astype('bool')\n",
    "df.head()"
   ]
  },
  {
   "cell_type": "markdown",
   "metadata": {},
   "source": [
    "### Index, columns and summary"
   ]
  },
  {
   "cell_type": "code",
   "execution_count": null,
   "metadata": {},
   "outputs": [],
   "source": [
    "df.index"
   ]
  },
  {
   "cell_type": "markdown",
   "metadata": {},
   "source": [
    "Columns"
   ]
  },
  {
   "cell_type": "code",
   "execution_count": null,
   "metadata": {},
   "outputs": [],
   "source": [
    "df.columns"
   ]
  },
  {
   "cell_type": "markdown",
   "metadata": {},
   "source": [
    "Quickly summarize the descriptive statistics"
   ]
  },
  {
   "cell_type": "code",
   "execution_count": null,
   "metadata": {},
   "outputs": [],
   "source": [
    "df.describe()"
   ]
  },
  {
   "cell_type": "markdown",
   "metadata": {},
   "source": [
    "### Selecting data"
   ]
  },
  {
   "cell_type": "markdown",
   "metadata": {},
   "source": [
    "Lets say we need to find the first three tasks, and get the values for timestamp and description of the task. Pandas provides a few ways to access the data from the dataframe - by label based indexes, numerical indexes or a hybrid approach.\n",
    "\n",
    "Try them out by yourself, by running the code below."
   ]
  },
  {
   "cell_type": "markdown",
   "metadata": {},
   "source": [
    "```python\n",
    "df[0:2] # gives you first three rows, all columns\n",
    "df[0:2][['timestamp', 'description']] # returns a copy with only 'timestamp' and 'description'\n",
    "\n",
    "df.iloc[0:2] # purely integer based indexing, similar to indexing in python. first three rows, all columns\n",
    "df.iloc[0:2][['timestamp', 'description']]\n",
    "df.iloc[[0,1,2],[2,3]]\n",
    "```"
   ]
  },
  {
   "cell_type": "code",
   "execution_count": null,
   "metadata": {},
   "outputs": [],
   "source": [
    "df.iloc[[0,1,2],[2,3]]"
   ]
  },
  {
   "cell_type": "markdown",
   "metadata": {},
   "source": [
    "To better understand how indexes work and show how the last two are different, lets make a copy of our dataframe."
   ]
  },
  {
   "cell_type": "code",
   "execution_count": null,
   "metadata": {},
   "outputs": [],
   "source": [
    "_df = df.copy()"
   ]
  },
  {
   "cell_type": "markdown",
   "metadata": {},
   "source": [
    "Lets set the index to be task instead of index pandas automatically provided us with."
   ]
  },
  {
   "cell_type": "code",
   "execution_count": null,
   "metadata": {},
   "outputs": [],
   "source": [
    "_df.set_index('task', inplace=True)"
   ]
  },
  {
   "cell_type": "markdown",
   "metadata": {},
   "source": [
    "Take a look at how the `_df` is different from `df`."
   ]
  },
  {
   "cell_type": "code",
   "execution_count": null,
   "metadata": {},
   "outputs": [],
   "source": []
  },
  {
   "cell_type": "markdown",
   "metadata": {},
   "source": [
    "Now execute the following cells to find how different indexes can be used for selecting data."
   ]
  },
  {
   "cell_type": "markdown",
   "metadata": {},
   "source": [
    "```python\n",
    "_df.loc['b'] # all rows matching task type b\n",
    "_df.loc[_df['mins']==30, ['description','timestamp']] # returns only a dataframe where the mins equals 30\n",
    "_df.loc[_df['mins']==30, 'description'] # returns a series where the mins equals 30\n",
    "```"
   ]
  },
  {
   "cell_type": "code",
   "execution_count": null,
   "metadata": {},
   "outputs": [],
   "source": []
  },
  {
   "cell_type": "markdown",
   "metadata": {},
   "source": [
    "Finally, check how having different indexes change the way you access the data."
   ]
  },
  {
   "cell_type": "code",
   "execution_count": null,
   "metadata": {},
   "outputs": [],
   "source": [
    "df.loc[0:2] # Purely label-location based indexer for selection by label. This works as index is an integer.\n",
    "_df.loc[0:2] # Does not work"
   ]
  },
  {
   "cell_type": "markdown",
   "metadata": {},
   "source": [
    "To understand more about how indexes work read through [Zax's tutorial on Pandas MultiIndex](http://www.zaxrosenberg.com/pandas-multiindex-tutorial/)"
   ]
  },
  {
   "cell_type": "markdown",
   "metadata": {},
   "source": [
    "### Aggregation\n",
    "Now that we have some idea about the basics, lets get into the actual analysis. Lets start by getting the total count of each type of task that we have in our dataset."
   ]
  },
  {
   "cell_type": "code",
   "execution_count": null,
   "metadata": {},
   "outputs": [],
   "source": [
    "df.groupby(['task']).count()"
   ]
  },
  {
   "cell_type": "markdown",
   "metadata": {},
   "source": [
    "## Hashtag analysis\n",
    "\n",
    "Hashtags are simple and easy way to put contextual information and in our data we find them in task descriptions. A task description might have no hashtag at all, a single hashtag or multiple hashtags. To start we need to parse the hashtags out from the description using regular expression. The following shows how multiple hastags are parsed out from a singe description.\n",
    "\n",
    "```python\n",
    "description = pd.Series(['#altair #pandas at project night'])\n",
    "description.str.findall(r'#.*?(?=\\s|$)').tolist()\n",
    "```\n"
   ]
  },
  {
   "cell_type": "code",
   "execution_count": null,
   "metadata": {},
   "outputs": [],
   "source": []
  },
  {
   "cell_type": "markdown",
   "metadata": {},
   "source": [
    "Note the result returned by running the above snippet is a list of lists. You probably want to flatten the list."
   ]
  },
  {
   "cell_type": "markdown",
   "metadata": {},
   "source": [
    "## Plotting wih Altair\n",
    "\n",
    "Visualization is a powerful technique to find patterns in a dataset. It is also useful for communicate the findings of an analysis of a dataset. In the next section we will answer some simple questions about our dataset using visualization. While `matplotlib` is one of the most successful packages for the purpose, we will be using [`Altair`](https://altair-viz.github.io/) that provides a simple yet powerful declarative way of building charts.\n",
    "\n",
    "Think of it as SQL, but for charts."
   ]
  },
  {
   "cell_type": "code",
   "execution_count": 14,
   "metadata": {},
   "outputs": [
    {
     "data": {
      "text/plain": [
       "RendererRegistry.enable('notebook')"
      ]
     },
     "execution_count": 14,
     "metadata": {},
     "output_type": "execute_result"
    }
   ],
   "source": [
    "import altair as alt\n",
    "alt.renderers.enable('notebook')"
   ]
  },
  {
   "cell_type": "markdown",
   "metadata": {},
   "source": [
    "We need to enable the renderer based on which environment we are using - `notebook` for jupyter notebooks, `jupterlab` for jupyterlab etc."
   ]
  },
  {
   "cell_type": "markdown",
   "metadata": {},
   "source": [
    "### What are the frequencies of each task type?\n",
    "\n",
    "Lets try to answer the same question we solved above, but this time using `altair`.\n",
    "\n",
    "Below is a `bar diagram` of our data. Lets break down what is going on in the function. From the official documentation:\n",
    "\n",
    "> The key to creating meaningful visualizations is to map properties of the data to visual properties in order to effectively communicate information. In Altair, this mapping of visual properties to data columns is referred to as\n",
    "> an encoding, and is most often expressed through the Chart.encode() method.\n",
    "\n",
    "Here are the 3 steps for building charts in altair\n",
    "\n",
    "- pass your data to alt.Chart\n",
    "```python\n",
    "alt.Chart(df)\n",
    "```\n",
    "- select the type of chart you want to plot\n",
    "```python    \n",
    "alt.Chart(df).mark_bar()\n",
    "```\n",
    "- `encode` map the property of the data to visual properties\n",
    "```python\n",
    "alt.Chart(df).mark_bar().encode(\n",
    "    y='task'      # map the y axis to df['task']\n",
    "    x='count()'   # map the x axis to aggregate function of count defined in altair\n",
    "    color='task') # map the color to df['task']\n",
    "```"
   ]
  },
  {
   "cell_type": "code",
   "execution_count": 15,
   "metadata": {},
   "outputs": [
    {
     "data": {
      "application/javascript": [
       "var spec = {\"config\": {\"view\": {\"width\": 400, \"height\": 300}}, \"data\": {\"name\": \"data-de0ed3cd9ddf6036ffea31331390ce1e\"}, \"mark\": \"bar\", \"encoding\": {\"color\": {\"type\": \"nominal\", \"field\": \"task\"}, \"x\": {\"type\": \"quantitative\", \"aggregate\": \"count\"}, \"y\": {\"type\": \"nominal\", \"field\": \"task\"}}, \"$schema\": \"https://vega.github.io/schema/vega-lite/v2.6.0.json\", \"datasets\": {\"data-de0ed3cd9ddf6036ffea31331390ce1e\": [{\"id\": 1, \"task\": \"b\", \"description\": \"#asyncio blog post completed\", \"timestamp\": \"2018-10-12T23:00:56.864056\", \"mins\": 30, \"done\": true}, {\"id\": 2, \"task\": \"b\", \"description\": \"#asyncio is really completicated\", \"timestamp\": \"2018-10-12T23:01:21.875416\", \"mins\": 30, \"done\": true}, {\"id\": 3, \"task\": \"b\", \"description\": \"#data_science is really completicated\", \"timestamp\": \"2018-10-12T23:03:26.697286\", \"mins\": 30, \"done\": true}, {\"id\": 4, \"task\": \"c\", \"description\": \"#asyncio completed stuff\", \"timestamp\": \"2018-10-12T23:07:19.131405\", \"mins\": 30, \"done\": true}, {\"id\": 5, \"task\": \"m\", \"description\": \"#asyncio ask some questions\", \"timestamp\": \"2018-10-12T23:08:09.363419\", \"mins\": 30, \"done\": true}, {\"id\": 6, \"task\": \"m\", \"description\": \"#asyncio got the answerss\", \"timestamp\": \"2018-10-12T23:08:20.690693\", \"mins\": 30, \"done\": true}, {\"id\": 7, \"task\": \"d\", \"description\": \"#asyncio got the answerss\", \"timestamp\": \"2018-10-12T23:08:37.566848\", \"mins\": 30, \"done\": true}, {\"id\": 8, \"task\": \"r\", \"description\": \"#asyncio looking into docs\", \"timestamp\": \"2018-10-12T23:08:56.649820\", \"mins\": 30, \"done\": true}, {\"id\": 9, \"task\": \"p\", \"description\": \"#asyncio coding in the stuff\", \"timestamp\": \"2018-10-12T23:10:12.633999\", \"mins\": 30, \"done\": true}, {\"id\": 10, \"task\": \"d\", \"description\": \"#jinja trying to figure app_context\", \"timestamp\": \"2018-10-14T09:07:52.702126\", \"mins\": 30, \"done\": true}, {\"id\": 11, \"task\": \"d\", \"description\": \"#bootstrap cards how to make cards cliackable\", \"timestamp\": \"2018-10-14T09:08:38.856013\", \"mins\": 30, \"done\": true}, {\"id\": 12, \"task\": \"d\", \"description\": \"#bootstrap figuring out how to integrate wtforms\", \"timestamp\": \"2018-10-15T19:05:23.955170\", \"mins\": 30, \"done\": true}, {\"id\": 13, \"task\": \"d\", \"description\": \"#bootstrap trying to get form alignment working\", \"timestamp\": \"2018-10-15T19:07:06.278395\", \"mins\": 5, \"done\": true}, {\"id\": 14, \"task\": \"d\", \"description\": \"#cft trying to figure how to add read replica\", \"timestamp\": \"2018-10-21T08:02:29.179643\", \"mins\": 20, \"done\": true}, {\"id\": 15, \"task\": \"r\", \"description\": \"#cft read through cloud formation docs to understand how to create read replica\", \"timestamp\": \"2018-10-21T09:08:42.564314\", \"mins\": 30, \"done\": true}, {\"id\": 16, \"task\": \"r\", \"description\": \"#pandas tutorial for timeseries analysis\", \"timestamp\": \"2018-11-03T09:59:59.886021\", \"mins\": 20, \"done\": true}, {\"id\": 17, \"task\": \"r\", \"description\": \"#pandas fixing matplotlib errors needed restarting jupyter kernel after pip install\", \"timestamp\": \"2018-11-03T10:07:50.354188\", \"mins\": 5, \"done\": true}, {\"id\": 18, \"task\": \"d\", \"description\": \"#pandas converting timestamp to datetime64\", \"timestamp\": \"2018-11-03T10:54:21.074068\", \"mins\": 10, \"done\": true}, {\"id\": 19, \"task\": \"r\", \"description\": \"timeseries data visualization with vega, vega-lite and altair\", \"timestamp\": \"2018-11-03T11:12:53.290185\", \"mins\": 10, \"done\": true}, {\"id\": 20, \"task\": \"r\", \"description\": \"#visualization\", \"timestamp\": \"2018-11-03T11:59:11.041432\", \"mins\": 10, \"done\": true}, {\"id\": 21, \"task\": \"c\", \"description\": \"#pandas which tasks take up most time\", \"timestamp\": \"2018-11-03T18:05:39.199989\", \"mins\": 20, \"done\": true}, {\"id\": 22, \"task\": \"c\", \"description\": \"#pandas #regular_expression which tasks take up most time\", \"timestamp\": \"2018-11-03T18:08:00.601788\", \"mins\": 20, \"done\": true}, {\"id\": 23, \"task\": \"c\", \"description\": \"#pandas apply function to a dataframe\", \"timestamp\": \"2018-11-04T05:39:13.803043\", \"mins\": 20, \"done\": true}, {\"id\": 24, \"task\": \"m\", \"description\": \"checking in with mentor\", \"timestamp\": \"2018-11-04T05:43:03.523862\", \"mins\": 20, \"done\": true}, {\"id\": 25, \"task\": \"d\", \"description\": \"stupid typo-ed a comma!\", \"timestamp\": \"2018-11-04T06:07:05.694163\", \"mins\": 20, \"done\": true}, {\"id\": 26, \"task\": \"d\", \"description\": \"#visualization trying to figure string type for altair\", \"timestamp\": \"2018-11-04T07:00:06.893573\", \"mins\": 20, \"done\": true}, {\"id\": 27, \"task\": \"c\", \"description\": \"#visualization barchart created\", \"timestamp\": \"2018-11-04T07:55:20.632394\", \"mins\": 20, \"done\": true}]}};\n",
       "var opt = {};\n",
       "var type = \"vega-lite\";\n",
       "var id = \"eb35b09b-2e39-460e-a11a-91f67671c901\";\n",
       "\n",
       "var output_area = this;\n",
       "\n",
       "require([\"nbextensions/jupyter-vega/index\"], function(vega) {\n",
       "  var target = document.createElement(\"div\");\n",
       "  target.id = id;\n",
       "  target.className = \"vega-embed\";\n",
       "\n",
       "  var style = document.createElement(\"style\");\n",
       "  style.textContent = [\n",
       "    \".vega-embed .error p {\",\n",
       "    \"  color: firebrick;\",\n",
       "    \"  font-size: 14px;\",\n",
       "    \"}\",\n",
       "  ].join(\"\\\\n\");\n",
       "\n",
       "  // element is a jQuery wrapped DOM element inside the output area\n",
       "  // see http://ipython.readthedocs.io/en/stable/api/generated/\\\n",
       "  // IPython.display.html#IPython.display.Javascript.__init__\n",
       "  element[0].appendChild(target);\n",
       "  element[0].appendChild(style);\n",
       "\n",
       "  vega.render(\"#\" + id, spec, type, opt, output_area);\n",
       "}, function (err) {\n",
       "  if (err.requireType !== \"scripterror\") {\n",
       "    throw(err);\n",
       "  }\n",
       "});\n"
      ],
      "text/plain": [
       "<vega.vegalite.VegaLite at 0x115255860>"
      ]
     },
     "metadata": {
      "jupyter-vega": "#eb35b09b-2e39-460e-a11a-91f67671c901"
     },
     "output_type": "display_data"
    },
    {
     "data": {
      "text/plain": []
     },
     "execution_count": 15,
     "metadata": {},
     "output_type": "execute_result"
    },
    {
     "data": {
      "image/png": "[encoded data removed]"
     },
     "metadata": {
      "jupyter-vega": "#eb35b09b-2e39-460e-a11a-91f67671c901"
     },
     "output_type": "display_data"
    }
   ],
   "source": [
    "alt.Chart(df).mark_bar().encode(\n",
    "    y='task',\n",
    "    x='count()',\n",
    "    color='task'\n",
    ")"
   ]
  },
  {
   "cell_type": "markdown",
   "metadata": {},
   "source": [
    "You can choose different chart types by changing `mark_bar` to `mark_point`, `mark_square`, `mark_geoshape` etc. as applicable for your data. Full list is [here](https://altair-viz.github.io/user_guide/marks.html)"
   ]
  },
  {
   "cell_type": "markdown",
   "metadata": {},
   "source": [
    "## Feedback"
   ]
  },
  {
   "cell_type": "markdown",
   "metadata": {},
   "source": [
    "Thanks for attending this project night. We put in a lot of effort to make this useful for you. However, we can not make it better, unless we hear back from you on what you want and collect data to make changes.\n",
    "\n",
    "Please take a few moments to fill in the [small form](https://docs.google.com/forms/d/e/1FAIpQLSePDQlWOibJrF7rI5KrYhzUSNfXp9GMP-6b-bjC8_qSFgYp-w/viewform?usp=pp_url&entry.813953991=https://bit.ly/data_trackcoder) and help us improve it."
   ]
  }
 ],
 "metadata": {
  "kernelspec": {
   "display_name": "Python 3",
   "language": "python",
   "name": "python3"
  },
  "language_info": {
   "codemirror_mode": {
    "name": "ipython",
    "version": 3
   },
   "file_extension": ".py",
   "mimetype": "text/x-python",
   "name": "python",
   "nbconvert_exporter": "python",
   "pygments_lexer": "ipython3",
   "version": "3.7.0"
  },
  "toc": {
   "base_numbering": 1,
   "nav_menu": {},
   "number_sections": true,
   "sideBar": true,
   "skip_h1_title": false,
   "title_cell": "Table of Contents",
   "title_sidebar": "Contents",
   "toc_cell": false,
   "toc_position": {
    "height": "626px",
    "left": "61px",
    "top": "135.117px",
    "width": "415px"
   },
   "toc_section_display": true,
   "toc_window_display": true
  }
 },
 "nbformat": 4,
 "nbformat_minor": 2
}
