{
 "cells": [
  {
   "cell_type": "markdown",
   "metadata": {},
   "source": [
    "# Data Analysis and visualization for tracking developer productivity\n",
    "\n",
    "Chipy's mentorship program is an extra-ordinary jounery for becoming a better developer. As a mentee, you are expected to do a lot - you read new articles/books, write code, debug and troubleshoot, pair program with other mentees in coding workshop or your mentor. This is involves managing time efficiently and doing the effective things. But as the old adage goes, \"you can't manage what you can't measure\".\n",
    "\n",
    "This project is the third of the three part series of building tools for the mentees for tracking time. The end goal of such a tool will be to aggregate anonymous data and analyze how does a typical mentee spend on blogging (b), coding (c), debugging (d), pair program (p) with mentor or other mentees.\n",
    "\n",
    "In this project we will be using `pandas` to analyze the data gathered by using the command line tool we built in the first part of the series. We will also be using `altair`, a visualization library to do some exploratory analysis of the data.\n",
    "\n",
    "Short url for this page: http://bit.ly/data_trackcoder"
   ]
  },
  {
   "cell_type": "markdown",
   "metadata": {},
   "source": [
    "##  Is this project for you\n",
    "\n",
    "Before you progress further, let's check if we are ready to solve this. You should\n",
    "\n",
    "- Have a personal computer with working wifi and power cord\n",
    "- Have Python 3 installed on your computer. *Yes, **Python 3** only* 😎\n",
    "- Have some idea about lists, dictionaries and functions\n",
    "- Have created a virtual environment and installing packages with `pip`\n",
    "\n",
    "In addition, you should be familiar with [Part 1](https://github.com/chicagopython/CodingWorkshops/tree/master/problems/py101/trackcoder), and [Part 2](https://bit.ly/flask_trackcoder) of this three part exercise."
   ]
  },
  {
   "cell_type": "markdown",
   "metadata": {},
   "source": [
    "## Getting the project setup in your computer\n",
    "If you are familiar with git, run\n",
    "\n",
    "\n",
    "```\n",
    "git clone https://github.com/chicagopython/CodingWorkshops.git\n",
    "```\n",
    "\n",
    "If not, go to https://github.com/chicagopython/CodingWorkshops\n",
    "\n",
    "Click on the Download Zip and unzip the file that gets downloaded.\n",
    "\n",
    "From your command line (terminal in mac osx, or linux and command prompt in windows), change directory to the path where you have downloaded it.\n",
    "\n",
    "\n",
    "    On linux or OS X\n",
    "\n",
    "      > cd path/to/CodingWorkshops/problems/data_science/\n",
    "\n",
    "    On Windows\n",
    "\n",
    "      > cd path\\to\\CodingWorkshops\\problems\\data_science\n",
    "\n",
    "### Check if you have the latest notebook\n",
    "\n",
    "If you have downloaded the notebook before the event of the Project Night, you have downloaded the notebook with only materials to review for project night without the actual problems. The actual problems will be released 2 hours before the event. Please update your notebook in order to get the challenge questions.\n",
    "\n",
    "In that directory, run the following command\n",
    "\n",
    "    git pull\n",
    "\n",
    "\n",
    "### Installation of Required packages\n",
    "\n",
    "The following packages are needed for this project.\n",
    "\n",
    "```\n",
    "numpy==1.14.2\n",
    "pandas==0.22.0\n",
    "python-dateutil==2.7.2\n",
    "pytz==2018.4\n",
    "scikit-learn==0.19.1\n",
    "scipy==1.0.1\n",
    "six==1.11.0\n",
    "sklearn==0.20.0\n",
    "altair==2.2.2 \n",
    "```\n",
    "These packages are listed in the file `requirements.txt` in this directory.\n",
    "From a terminal (in mac ox or linux) or command prompt (windows), install them using the following command.\n",
    "\n",
    "```\n",
    "pip install -r requirements.txt\n",
    "```\n",
    "\n",
    "Once the installation completed, start Jupyter notebook by issuing the command.\n",
    "    \n",
    "    > jupyter notebook\n",
    "\n",
    "Running the following command here will open up a browser (http://localhost:8888)  and display all the notebooks under this directory.\n",
    "Double click to open the `trackcoder` notebook.\n",
    "\n",
    "Next execute the cell below by hitting `Shift + Enter`."
   ]
  },
  {
   "cell_type": "code",
   "execution_count": 3,
   "metadata": {},
   "outputs": [],
   "source": [
    "import pandas"
   ]
  },
  {
   "cell_type": "markdown",
   "metadata": {},
   "source": [
    "If the above line executes without any error, then congratulations 🎉 - you have successfully installed everything, and ready to get started."
   ]
  },
  {
   "cell_type": "markdown",
   "metadata": {},
   "source": [
    "## Getting Started with Pandas"
   ]
  },
  {
   "cell_type": "markdown",
   "metadata": {},
   "source": [
    "### Loading pandas"
   ]
  },
  {
   "cell_type": "markdown",
   "metadata": {},
   "source": [
    "We will start off with an gentle introduction to `pandas` that is mostly taken from the [wonderful 10 minutes guide](https://pandas.pydata.org/pandas-docs/stable/10min.html). Lets start by importing the necessary packages."
   ]
  },
  {
   "cell_type": "code",
   "execution_count": 1,
   "metadata": {},
   "outputs": [],
   "source": [
    "import pandas as pd\n",
    "import numpy as np"
   ]
  },
  {
   "cell_type": "markdown",
   "metadata": {},
   "source": [
    "### Pandas Series and Dataframe"
   ]
  },
  {
   "cell_type": "markdown",
   "metadata": {},
   "source": [
    "#### Series"
   ]
  },
  {
   "cell_type": "markdown",
   "metadata": {},
   "source": [
    "A pandas `Series` is a one-dimensional labeled array capable of holding any data type. The axis labels are collectively referred to as the index. Lets create `series` from the different task types that we have defined in [Part 1](https://github.com/chicagopython/CodingWorkshops/tree/master/problems/py101/trackcoder#181-interactive-mode)."
   ]
  },
  {
   "cell_type": "code",
   "execution_count": 6,
   "metadata": {},
   "outputs": [
    {
     "name": "stdout",
     "output_type": "stream",
     "text": [
      "data: ['blogging' 'coding' 'debugging' 'mentor' 'pair_programming' 'research']\n",
      "index: Index(['b', 'c', 'd', 'm', 'p', 'r'], dtype='object')\n"
     ]
    }
   ],
   "source": [
    "description = pd.Series(data=['blogging','coding','debugging','mentor','pair_programming', 'research'], \n",
    "                        index=['b', 'c', 'd','m','p','r'])\n",
    "print(f\"data: {description.values}\\nindex: {description.index}\")"
   ]
  },
  {
   "cell_type": "code",
   "execution_count": 7,
   "metadata": {},
   "outputs": [
    {
     "data": {
      "text/plain": [
       "b            blogging\n",
       "c              coding\n",
       "d           debugging\n",
       "m              mentor\n",
       "p    pair_programming\n",
       "r            research\n",
       "dtype: object"
      ]
     },
     "execution_count": 7,
     "metadata": {},
     "output_type": "execute_result"
    }
   ],
   "source": [
    "description\n"
   ]
  },
  {
   "cell_type": "markdown",
   "metadata": {},
   "source": [
    "#### DataFrame"
   ]
  },
  {
   "cell_type": "markdown",
   "metadata": {},
   "source": [
    "A pandas `DataFrame` is a 2-dimensional labeled data structure where the columns can be of different data types. \n",
    "\n",
    "Lets create another series with number of minutes and same indexes as that of `description`."
   ]
  },
  {
   "cell_type": "code",
   "execution_count": 8,
   "metadata": {},
   "outputs": [
    {
     "data": {
      "text/plain": [
       "b    100\n",
       "c    100\n",
       "d    200\n",
       "m     50\n",
       "p     50\n",
       "r    300\n",
       "dtype: int64"
      ]
     },
     "execution_count": 8,
     "metadata": {},
     "output_type": "execute_result"
    }
   ],
   "source": [
    "mins = pd.Series([100,100,200,50,50,300], ['b', 'c', 'd', 'm', 'p', 'r'])\n",
    "mins"
   ]
  },
  {
   "cell_type": "markdown",
   "metadata": {},
   "source": [
    "Now lets create a dataframe using `description` and `mins`."
   ]
  },
  {
   "cell_type": "code",
   "execution_count": 9,
   "metadata": {},
   "outputs": [
    {
     "data": {
      "text/html": [
       "<div>\n",
       "<style scoped>\n",
       "    .dataframe tbody tr th:only-of-type {\n",
       "        vertical-align: middle;\n",
       "    }\n",
       "\n",
       "    .dataframe tbody tr th {\n",
       "        vertical-align: top;\n",
       "    }\n",
       "\n",
       "    .dataframe thead th {\n",
       "        text-align: right;\n",
       "    }\n",
       "</style>\n",
       "<table border=\"1\" class=\"dataframe\">\n",
       "  <thead>\n",
       "    <tr style=\"text-align: right;\">\n",
       "      <th></th>\n",
       "      <th>description</th>\n",
       "      <th>mins</th>\n",
       "    </tr>\n",
       "  </thead>\n",
       "  <tbody>\n",
       "    <tr>\n",
       "      <th>b</th>\n",
       "      <td>blogging</td>\n",
       "      <td>100</td>\n",
       "    </tr>\n",
       "    <tr>\n",
       "      <th>c</th>\n",
       "      <td>coding</td>\n",
       "      <td>100</td>\n",
       "    </tr>\n",
       "    <tr>\n",
       "      <th>d</th>\n",
       "      <td>debugging</td>\n",
       "      <td>200</td>\n",
       "    </tr>\n",
       "    <tr>\n",
       "      <th>m</th>\n",
       "      <td>mentor</td>\n",
       "      <td>50</td>\n",
       "    </tr>\n",
       "    <tr>\n",
       "      <th>p</th>\n",
       "      <td>pair_programming</td>\n",
       "      <td>50</td>\n",
       "    </tr>\n",
       "    <tr>\n",
       "      <th>r</th>\n",
       "      <td>research</td>\n",
       "      <td>300</td>\n",
       "    </tr>\n",
       "  </tbody>\n",
       "</table>\n",
       "</div>"
      ],
      "text/plain": [
       "        description  mins\n",
       "b          blogging   100\n",
       "c            coding   100\n",
       "d         debugging   200\n",
       "m            mentor    50\n",
       "p  pair_programming    50\n",
       "r          research   300"
      ]
     },
     "execution_count": 9,
     "metadata": {},
     "output_type": "execute_result"
    }
   ],
   "source": [
    "d = {'description': description, 'mins': mins}\n",
    "\n",
    "frame = pd.DataFrame(d)\n",
    "frame"
   ]
  },
  {
   "cell_type": "markdown",
   "metadata": {},
   "source": [
    "### Loading the data"
   ]
  },
  {
   "cell_type": "markdown",
   "metadata": {},
   "source": [
    "Next we will load the data present in the sqlite database in the folder `CodingWorkshops/problems/py101/trackcoder/`. If you choose to use a different dataset, all you need to do is change the value of `db` to the path of your file."
   ]
  },
  {
   "cell_type": "code",
   "execution_count": 2,
   "metadata": {},
   "outputs": [
    {
     "data": {
      "text/plain": [
       "'../py101/trackcoder/task_track.db'"
      ]
     },
     "execution_count": 2,
     "metadata": {},
     "output_type": "execute_result"
    }
   ],
   "source": [
    "db=\"../py101/trackcoder/task_track.db\"\n",
    "db"
   ]
  },
  {
   "cell_type": "code",
   "execution_count": 3,
   "metadata": {},
   "outputs": [],
   "source": [
    "import sqlite3\n",
    "conn = sqlite3.connect(db)\n",
    "df = pd.read_sql_query(\"select * from todo\", conn)"
   ]
  },
  {
   "cell_type": "markdown",
   "metadata": {},
   "source": [
    "### Viewing the data"
   ]
  },
  {
   "cell_type": "code",
   "execution_count": 4,
   "metadata": {},
   "outputs": [
    {
     "data": {
      "text/html": [
       "<div>\n",
       "<style scoped>\n",
       "    .dataframe tbody tr th:only-of-type {\n",
       "        vertical-align: middle;\n",
       "    }\n",
       "\n",
       "    .dataframe tbody tr th {\n",
       "        vertical-align: top;\n",
       "    }\n",
       "\n",
       "    .dataframe thead th {\n",
       "        text-align: right;\n",
       "    }\n",
       "</style>\n",
       "<table border=\"1\" class=\"dataframe\">\n",
       "  <thead>\n",
       "    <tr style=\"text-align: right;\">\n",
       "      <th></th>\n",
       "      <th>id</th>\n",
       "      <th>task</th>\n",
       "      <th>description</th>\n",
       "      <th>timestamp</th>\n",
       "      <th>mins</th>\n",
       "      <th>done</th>\n",
       "    </tr>\n",
       "  </thead>\n",
       "  <tbody>\n",
       "    <tr>\n",
       "      <th>0</th>\n",
       "      <td>1</td>\n",
       "      <td>m</td>\n",
       "      <td>initial kickoff event meeting</td>\n",
       "      <td>2018-11-15 10:40:53.958010</td>\n",
       "      <td>60</td>\n",
       "      <td>1</td>\n",
       "    </tr>\n",
       "    <tr>\n",
       "      <th>1</th>\n",
       "      <td>2</td>\n",
       "      <td>r</td>\n",
       "      <td>meet cohort</td>\n",
       "      <td>2018-11-15 10:41:38.542572</td>\n",
       "      <td>120</td>\n",
       "      <td>1</td>\n",
       "    </tr>\n",
       "    <tr>\n",
       "      <th>2</th>\n",
       "      <td>3</td>\n",
       "      <td>r</td>\n",
       "      <td>web search exploring possible ideas</td>\n",
       "      <td>2018-11-15 10:42:43.763348</td>\n",
       "      <td>150</td>\n",
       "      <td>1</td>\n",
       "    </tr>\n",
       "    <tr>\n",
       "      <th>3</th>\n",
       "      <td>4</td>\n",
       "      <td>m</td>\n",
       "      <td>explore project ideas</td>\n",
       "      <td>2018-11-15 10:43:12.314595</td>\n",
       "      <td>120</td>\n",
       "      <td>1</td>\n",
       "    </tr>\n",
       "    <tr>\n",
       "      <th>4</th>\n",
       "      <td>5</td>\n",
       "      <td>m</td>\n",
       "      <td>basic python and pandas</td>\n",
       "      <td>2018-11-15 10:45:50.358397</td>\n",
       "      <td>120</td>\n",
       "      <td>1</td>\n",
       "    </tr>\n",
       "    <tr>\n",
       "      <th>5</th>\n",
       "      <td>6</td>\n",
       "      <td>p</td>\n",
       "      <td>first project night py101</td>\n",
       "      <td>2018-11-15 10:46:28.335922</td>\n",
       "      <td>180</td>\n",
       "      <td>1</td>\n",
       "    </tr>\n",
       "    <tr>\n",
       "      <th>6</th>\n",
       "      <td>7</td>\n",
       "      <td>b</td>\n",
       "      <td>first blog post</td>\n",
       "      <td>2018-11-15 10:46:58.588987</td>\n",
       "      <td>120</td>\n",
       "      <td>1</td>\n",
       "    </tr>\n",
       "    <tr>\n",
       "      <th>7</th>\n",
       "      <td>8</td>\n",
       "      <td>m</td>\n",
       "      <td>refine project ideas, continue pandas</td>\n",
       "      <td>2018-11-15 10:48:04.462996</td>\n",
       "      <td>120</td>\n",
       "      <td>1</td>\n",
       "    </tr>\n",
       "    <tr>\n",
       "      <th>8</th>\n",
       "      <td>9</td>\n",
       "      <td>m</td>\n",
       "      <td>hangout identify resources, pandas</td>\n",
       "      <td>2018-11-15 10:48:53.416604</td>\n",
       "      <td>60</td>\n",
       "      <td>1</td>\n",
       "    </tr>\n",
       "    <tr>\n",
       "      <th>9</th>\n",
       "      <td>10</td>\n",
       "      <td>m</td>\n",
       "      <td>review of python skills learned on first proje...</td>\n",
       "      <td>2018-11-15 10:49:51.213113</td>\n",
       "      <td>120</td>\n",
       "      <td>1</td>\n",
       "    </tr>\n",
       "    <tr>\n",
       "      <th>10</th>\n",
       "      <td>11</td>\n",
       "      <td>m</td>\n",
       "      <td>second hangout, exploring data</td>\n",
       "      <td>2018-11-15 10:50:55.902782</td>\n",
       "      <td>60</td>\n",
       "      <td>1</td>\n",
       "    </tr>\n",
       "    <tr>\n",
       "      <th>11</th>\n",
       "      <td>12</td>\n",
       "      <td>m</td>\n",
       "      <td>exploring dataset</td>\n",
       "      <td>2018-11-15 10:51:26.953061</td>\n",
       "      <td>120</td>\n",
       "      <td>1</td>\n",
       "    </tr>\n",
       "    <tr>\n",
       "      <th>12</th>\n",
       "      <td>13</td>\n",
       "      <td>m</td>\n",
       "      <td>review progress, develop workaround for problems</td>\n",
       "      <td>2018-11-15 10:53:10.864695</td>\n",
       "      <td>60</td>\n",
       "      <td>1</td>\n",
       "    </tr>\n",
       "    <tr>\n",
       "      <th>13</th>\n",
       "      <td>14</td>\n",
       "      <td>p</td>\n",
       "      <td>second project night webdev</td>\n",
       "      <td>2018-11-15 10:53:47.849494</td>\n",
       "      <td>180</td>\n",
       "      <td>1</td>\n",
       "    </tr>\n",
       "    <tr>\n",
       "      <th>14</th>\n",
       "      <td>15</td>\n",
       "      <td>b</td>\n",
       "      <td>second blog post</td>\n",
       "      <td>2018-11-15 10:54:08.981182</td>\n",
       "      <td>180</td>\n",
       "      <td>1</td>\n",
       "    </tr>\n",
       "    <tr>\n",
       "      <th>15</th>\n",
       "      <td>16</td>\n",
       "      <td>m</td>\n",
       "      <td>review progress, filtering and aggregating</td>\n",
       "      <td>2018-11-15 10:54:47.827929</td>\n",
       "      <td>120</td>\n",
       "      <td>1</td>\n",
       "    </tr>\n",
       "    <tr>\n",
       "      <th>16</th>\n",
       "      <td>17</td>\n",
       "      <td>m</td>\n",
       "      <td>explore parsing datafiles to fit in memory</td>\n",
       "      <td>2018-11-15 10:55:46.746260</td>\n",
       "      <td>120</td>\n",
       "      <td>1</td>\n",
       "    </tr>\n",
       "    <tr>\n",
       "      <th>17</th>\n",
       "      <td>18</td>\n",
       "      <td>c</td>\n",
       "      <td>aggregating data, various ways</td>\n",
       "      <td>2018-11-15 10:56:39.590670</td>\n",
       "      <td>60</td>\n",
       "      <td>1</td>\n",
       "    </tr>\n",
       "    <tr>\n",
       "      <th>18</th>\n",
       "      <td>19</td>\n",
       "      <td>d</td>\n",
       "      <td>hunting down errors in coding</td>\n",
       "      <td>2018-11-15 10:57:13.498375</td>\n",
       "      <td>120</td>\n",
       "      <td>1</td>\n",
       "    </tr>\n",
       "    <tr>\n",
       "      <th>19</th>\n",
       "      <td>20</td>\n",
       "      <td>m</td>\n",
       "      <td>refining and correcting for errors in underlyi...</td>\n",
       "      <td>2018-11-15 10:58:13.995039</td>\n",
       "      <td>120</td>\n",
       "      <td>1</td>\n",
       "    </tr>\n",
       "    <tr>\n",
       "      <th>20</th>\n",
       "      <td>21</td>\n",
       "      <td>r</td>\n",
       "      <td>explore graphing plugins, Dash, MatPlot, Seaborn</td>\n",
       "      <td>2018-11-15 11:00:13.131261</td>\n",
       "      <td>180</td>\n",
       "      <td>1</td>\n",
       "    </tr>\n",
       "    <tr>\n",
       "      <th>21</th>\n",
       "      <td>22</td>\n",
       "      <td>m</td>\n",
       "      <td>reviewing graphing options and ways to aggrega...</td>\n",
       "      <td>2018-11-15 11:01:48.783390</td>\n",
       "      <td>120</td>\n",
       "      <td>1</td>\n",
       "    </tr>\n",
       "    <tr>\n",
       "      <th>22</th>\n",
       "      <td>23</td>\n",
       "      <td>c</td>\n",
       "      <td>aggregating and filtering data</td>\n",
       "      <td>2018-11-15 11:02:47.564190</td>\n",
       "      <td>150</td>\n",
       "      <td>1</td>\n",
       "    </tr>\n",
       "    <tr>\n",
       "      <th>23</th>\n",
       "      <td>24</td>\n",
       "      <td>d</td>\n",
       "      <td>double checking results and debugging</td>\n",
       "      <td>2018-11-15 11:03:37.982159</td>\n",
       "      <td>150</td>\n",
       "      <td>1</td>\n",
       "    </tr>\n",
       "    <tr>\n",
       "      <th>24</th>\n",
       "      <td>25</td>\n",
       "      <td>p</td>\n",
       "      <td>third project night</td>\n",
       "      <td>2018-11-15 11:04:19.112410</td>\n",
       "      <td>180</td>\n",
       "      <td>1</td>\n",
       "    </tr>\n",
       "  </tbody>\n",
       "</table>\n",
       "</div>"
      ],
      "text/plain": [
       "    id task                                        description  \\\n",
       "0    1    m                      initial kickoff event meeting   \n",
       "1    2    r                                        meet cohort   \n",
       "2    3    r                web search exploring possible ideas   \n",
       "3    4    m                              explore project ideas   \n",
       "4    5    m                            basic python and pandas   \n",
       "5    6    p                          first project night py101   \n",
       "6    7    b                                    first blog post   \n",
       "7    8    m              refine project ideas, continue pandas   \n",
       "8    9    m                 hangout identify resources, pandas   \n",
       "9   10    m  review of python skills learned on first proje...   \n",
       "10  11    m                     second hangout, exploring data   \n",
       "11  12    m                                  exploring dataset   \n",
       "12  13    m   review progress, develop workaround for problems   \n",
       "13  14    p                        second project night webdev   \n",
       "14  15    b                                   second blog post   \n",
       "15  16    m         review progress, filtering and aggregating   \n",
       "16  17    m         explore parsing datafiles to fit in memory   \n",
       "17  18    c                     aggregating data, various ways   \n",
       "18  19    d                      hunting down errors in coding   \n",
       "19  20    m  refining and correcting for errors in underlyi...   \n",
       "20  21    r   explore graphing plugins, Dash, MatPlot, Seaborn   \n",
       "21  22    m  reviewing graphing options and ways to aggrega...   \n",
       "22  23    c                     aggregating and filtering data   \n",
       "23  24    d              double checking results and debugging   \n",
       "24  25    p                                third project night   \n",
       "\n",
       "                     timestamp  mins  done  \n",
       "0   2018-11-15 10:40:53.958010    60     1  \n",
       "1   2018-11-15 10:41:38.542572   120     1  \n",
       "2   2018-11-15 10:42:43.763348   150     1  \n",
       "3   2018-11-15 10:43:12.314595   120     1  \n",
       "4   2018-11-15 10:45:50.358397   120     1  \n",
       "5   2018-11-15 10:46:28.335922   180     1  \n",
       "6   2018-11-15 10:46:58.588987   120     1  \n",
       "7   2018-11-15 10:48:04.462996   120     1  \n",
       "8   2018-11-15 10:48:53.416604    60     1  \n",
       "9   2018-11-15 10:49:51.213113   120     1  \n",
       "10  2018-11-15 10:50:55.902782    60     1  \n",
       "11  2018-11-15 10:51:26.953061   120     1  \n",
       "12  2018-11-15 10:53:10.864695    60     1  \n",
       "13  2018-11-15 10:53:47.849494   180     1  \n",
       "14  2018-11-15 10:54:08.981182   180     1  \n",
       "15  2018-11-15 10:54:47.827929   120     1  \n",
       "16  2018-11-15 10:55:46.746260   120     1  \n",
       "17  2018-11-15 10:56:39.590670    60     1  \n",
       "18  2018-11-15 10:57:13.498375   120     1  \n",
       "19  2018-11-15 10:58:13.995039   120     1  \n",
       "20  2018-11-15 11:00:13.131261   180     1  \n",
       "21  2018-11-15 11:01:48.783390   120     1  \n",
       "22  2018-11-15 11:02:47.564190   150     1  \n",
       "23  2018-11-15 11:03:37.982159   150     1  \n",
       "24  2018-11-15 11:04:19.112410   180     1  "
      ]
     },
     "execution_count": 4,
     "metadata": {},
     "output_type": "execute_result"
    }
   ],
   "source": [
    "df\n"
   ]
  },
  {
   "cell_type": "code",
   "execution_count": 5,
   "metadata": {},
   "outputs": [
    {
     "data": {
      "text/html": [
       "<div>\n",
       "<style scoped>\n",
       "    .dataframe tbody tr th:only-of-type {\n",
       "        vertical-align: middle;\n",
       "    }\n",
       "\n",
       "    .dataframe tbody tr th {\n",
       "        vertical-align: top;\n",
       "    }\n",
       "\n",
       "    .dataframe thead th {\n",
       "        text-align: right;\n",
       "    }\n",
       "</style>\n",
       "<table border=\"1\" class=\"dataframe\">\n",
       "  <thead>\n",
       "    <tr style=\"text-align: right;\">\n",
       "      <th></th>\n",
       "      <th>id</th>\n",
       "      <th>task</th>\n",
       "      <th>description</th>\n",
       "      <th>timestamp</th>\n",
       "      <th>mins</th>\n",
       "      <th>done</th>\n",
       "    </tr>\n",
       "  </thead>\n",
       "  <tbody>\n",
       "    <tr>\n",
       "      <th>0</th>\n",
       "      <td>1</td>\n",
       "      <td>m</td>\n",
       "      <td>initial kickoff event meeting</td>\n",
       "      <td>2018-11-15 10:40:53.958010</td>\n",
       "      <td>60</td>\n",
       "      <td>1</td>\n",
       "    </tr>\n",
       "    <tr>\n",
       "      <th>1</th>\n",
       "      <td>2</td>\n",
       "      <td>r</td>\n",
       "      <td>meet cohort</td>\n",
       "      <td>2018-11-15 10:41:38.542572</td>\n",
       "      <td>120</td>\n",
       "      <td>1</td>\n",
       "    </tr>\n",
       "    <tr>\n",
       "      <th>2</th>\n",
       "      <td>3</td>\n",
       "      <td>r</td>\n",
       "      <td>web search exploring possible ideas</td>\n",
       "      <td>2018-11-15 10:42:43.763348</td>\n",
       "      <td>150</td>\n",
       "      <td>1</td>\n",
       "    </tr>\n",
       "    <tr>\n",
       "      <th>3</th>\n",
       "      <td>4</td>\n",
       "      <td>m</td>\n",
       "      <td>explore project ideas</td>\n",
       "      <td>2018-11-15 10:43:12.314595</td>\n",
       "      <td>120</td>\n",
       "      <td>1</td>\n",
       "    </tr>\n",
       "    <tr>\n",
       "      <th>4</th>\n",
       "      <td>5</td>\n",
       "      <td>m</td>\n",
       "      <td>basic python and pandas</td>\n",
       "      <td>2018-11-15 10:45:50.358397</td>\n",
       "      <td>120</td>\n",
       "      <td>1</td>\n",
       "    </tr>\n",
       "  </tbody>\n",
       "</table>\n",
       "</div>"
      ],
      "text/plain": [
       "   id task                          description                   timestamp  \\\n",
       "0   1    m        initial kickoff event meeting  2018-11-15 10:40:53.958010   \n",
       "1   2    r                          meet cohort  2018-11-15 10:41:38.542572   \n",
       "2   3    r  web search exploring possible ideas  2018-11-15 10:42:43.763348   \n",
       "3   4    m                explore project ideas  2018-11-15 10:43:12.314595   \n",
       "4   5    m              basic python and pandas  2018-11-15 10:45:50.358397   \n",
       "\n",
       "   mins  done  \n",
       "0    60     1  \n",
       "1   120     1  \n",
       "2   150     1  \n",
       "3   120     1  \n",
       "4   120     1  "
      ]
     },
     "execution_count": 5,
     "metadata": {},
     "output_type": "execute_result"
    }
   ],
   "source": [
    "df.head() #first 5 rows"
   ]
  },
  {
   "cell_type": "code",
   "execution_count": 6,
   "metadata": {},
   "outputs": [
    {
     "data": {
      "text/html": [
       "<div>\n",
       "<style scoped>\n",
       "    .dataframe tbody tr th:only-of-type {\n",
       "        vertical-align: middle;\n",
       "    }\n",
       "\n",
       "    .dataframe tbody tr th {\n",
       "        vertical-align: top;\n",
       "    }\n",
       "\n",
       "    .dataframe thead th {\n",
       "        text-align: right;\n",
       "    }\n",
       "</style>\n",
       "<table border=\"1\" class=\"dataframe\">\n",
       "  <thead>\n",
       "    <tr style=\"text-align: right;\">\n",
       "      <th></th>\n",
       "      <th>id</th>\n",
       "      <th>task</th>\n",
       "      <th>description</th>\n",
       "      <th>timestamp</th>\n",
       "      <th>mins</th>\n",
       "      <th>done</th>\n",
       "    </tr>\n",
       "  </thead>\n",
       "  <tbody>\n",
       "    <tr>\n",
       "      <th>20</th>\n",
       "      <td>21</td>\n",
       "      <td>r</td>\n",
       "      <td>explore graphing plugins, Dash, MatPlot, Seaborn</td>\n",
       "      <td>2018-11-15 11:00:13.131261</td>\n",
       "      <td>180</td>\n",
       "      <td>1</td>\n",
       "    </tr>\n",
       "    <tr>\n",
       "      <th>21</th>\n",
       "      <td>22</td>\n",
       "      <td>m</td>\n",
       "      <td>reviewing graphing options and ways to aggrega...</td>\n",
       "      <td>2018-11-15 11:01:48.783390</td>\n",
       "      <td>120</td>\n",
       "      <td>1</td>\n",
       "    </tr>\n",
       "    <tr>\n",
       "      <th>22</th>\n",
       "      <td>23</td>\n",
       "      <td>c</td>\n",
       "      <td>aggregating and filtering data</td>\n",
       "      <td>2018-11-15 11:02:47.564190</td>\n",
       "      <td>150</td>\n",
       "      <td>1</td>\n",
       "    </tr>\n",
       "    <tr>\n",
       "      <th>23</th>\n",
       "      <td>24</td>\n",
       "      <td>d</td>\n",
       "      <td>double checking results and debugging</td>\n",
       "      <td>2018-11-15 11:03:37.982159</td>\n",
       "      <td>150</td>\n",
       "      <td>1</td>\n",
       "    </tr>\n",
       "    <tr>\n",
       "      <th>24</th>\n",
       "      <td>25</td>\n",
       "      <td>p</td>\n",
       "      <td>third project night</td>\n",
       "      <td>2018-11-15 11:04:19.112410</td>\n",
       "      <td>180</td>\n",
       "      <td>1</td>\n",
       "    </tr>\n",
       "  </tbody>\n",
       "</table>\n",
       "</div>"
      ],
      "text/plain": [
       "    id task                                        description  \\\n",
       "20  21    r   explore graphing plugins, Dash, MatPlot, Seaborn   \n",
       "21  22    m  reviewing graphing options and ways to aggrega...   \n",
       "22  23    c                     aggregating and filtering data   \n",
       "23  24    d              double checking results and debugging   \n",
       "24  25    p                                third project night   \n",
       "\n",
       "                     timestamp  mins  done  \n",
       "20  2018-11-15 11:00:13.131261   180     1  \n",
       "21  2018-11-15 11:01:48.783390   120     1  \n",
       "22  2018-11-15 11:02:47.564190   150     1  \n",
       "23  2018-11-15 11:03:37.982159   150     1  \n",
       "24  2018-11-15 11:04:19.112410   180     1  "
      ]
     },
     "execution_count": 6,
     "metadata": {},
     "output_type": "execute_result"
    }
   ],
   "source": [
    "df.tail() # last 5 rows"
   ]
  },
  {
   "cell_type": "markdown",
   "metadata": {},
   "source": [
    "### Fix data type"
   ]
  },
  {
   "cell_type": "markdown",
   "metadata": {},
   "source": [
    "Pandas has the following data types."
   ]
  },
  {
   "cell_type": "markdown",
   "metadata": {},
   "source": [
    "```\n",
    "object\n",
    "int64\n",
    "float64\n",
    "bool\n",
    "datetime64\n",
    "timedelta[ns]\n",
    "category\n",
    "```"
   ]
  },
  {
   "cell_type": "markdown",
   "metadata": {},
   "source": [
    "Notice that when we imported the data from our sqlite database, all the columns got imported as objects. Lets fix this by editing the data type of the column inplace, i.e. modify the data frame so that beyond this point this change will persist for the dataframe."
   ]
  },
  {
   "cell_type": "code",
   "execution_count": 7,
   "metadata": {},
   "outputs": [
    {
     "data": {
      "text/html": [
       "<div>\n",
       "<style scoped>\n",
       "    .dataframe tbody tr th:only-of-type {\n",
       "        vertical-align: middle;\n",
       "    }\n",
       "\n",
       "    .dataframe tbody tr th {\n",
       "        vertical-align: top;\n",
       "    }\n",
       "\n",
       "    .dataframe thead th {\n",
       "        text-align: right;\n",
       "    }\n",
       "</style>\n",
       "<table border=\"1\" class=\"dataframe\">\n",
       "  <thead>\n",
       "    <tr style=\"text-align: right;\">\n",
       "      <th></th>\n",
       "      <th>id</th>\n",
       "      <th>task</th>\n",
       "      <th>description</th>\n",
       "      <th>timestamp</th>\n",
       "      <th>mins</th>\n",
       "      <th>done</th>\n",
       "    </tr>\n",
       "  </thead>\n",
       "  <tbody>\n",
       "    <tr>\n",
       "      <th>0</th>\n",
       "      <td>1</td>\n",
       "      <td>m</td>\n",
       "      <td>initial kickoff event meeting</td>\n",
       "      <td>2018-11-15 10:40:53.958010</td>\n",
       "      <td>60</td>\n",
       "      <td>True</td>\n",
       "    </tr>\n",
       "    <tr>\n",
       "      <th>1</th>\n",
       "      <td>2</td>\n",
       "      <td>r</td>\n",
       "      <td>meet cohort</td>\n",
       "      <td>2018-11-15 10:41:38.542572</td>\n",
       "      <td>120</td>\n",
       "      <td>True</td>\n",
       "    </tr>\n",
       "    <tr>\n",
       "      <th>2</th>\n",
       "      <td>3</td>\n",
       "      <td>r</td>\n",
       "      <td>web search exploring possible ideas</td>\n",
       "      <td>2018-11-15 10:42:43.763348</td>\n",
       "      <td>150</td>\n",
       "      <td>True</td>\n",
       "    </tr>\n",
       "    <tr>\n",
       "      <th>3</th>\n",
       "      <td>4</td>\n",
       "      <td>m</td>\n",
       "      <td>explore project ideas</td>\n",
       "      <td>2018-11-15 10:43:12.314595</td>\n",
       "      <td>120</td>\n",
       "      <td>True</td>\n",
       "    </tr>\n",
       "    <tr>\n",
       "      <th>4</th>\n",
       "      <td>5</td>\n",
       "      <td>m</td>\n",
       "      <td>basic python and pandas</td>\n",
       "      <td>2018-11-15 10:45:50.358397</td>\n",
       "      <td>120</td>\n",
       "      <td>True</td>\n",
       "    </tr>\n",
       "  </tbody>\n",
       "</table>\n",
       "</div>"
      ],
      "text/plain": [
       "   id task                          description                  timestamp  \\\n",
       "0   1    m        initial kickoff event meeting 2018-11-15 10:40:53.958010   \n",
       "1   2    r                          meet cohort 2018-11-15 10:41:38.542572   \n",
       "2   3    r  web search exploring possible ideas 2018-11-15 10:42:43.763348   \n",
       "3   4    m                explore project ideas 2018-11-15 10:43:12.314595   \n",
       "4   5    m              basic python and pandas 2018-11-15 10:45:50.358397   \n",
       "\n",
       "   mins  done  \n",
       "0    60  True  \n",
       "1   120  True  \n",
       "2   150  True  \n",
       "3   120  True  \n",
       "4   120  True  "
      ]
     },
     "execution_count": 7,
     "metadata": {},
     "output_type": "execute_result"
    }
   ],
   "source": [
    "df['timestamp'] = df['timestamp'].astype('datetime64[ns]')\n",
    "df['done'] = df['done'].astype('bool')\n",
    "df.head()"
   ]
  },
  {
   "cell_type": "markdown",
   "metadata": {},
   "source": [
    "### Index, columns and summary"
   ]
  },
  {
   "cell_type": "code",
   "execution_count": 8,
   "metadata": {},
   "outputs": [
    {
     "data": {
      "text/plain": [
       "RangeIndex(start=0, stop=25, step=1)"
      ]
     },
     "execution_count": 8,
     "metadata": {},
     "output_type": "execute_result"
    }
   ],
   "source": [
    "df.index"
   ]
  },
  {
   "cell_type": "markdown",
   "metadata": {},
   "source": [
    "Columns"
   ]
  },
  {
   "cell_type": "code",
   "execution_count": 9,
   "metadata": {},
   "outputs": [
    {
     "data": {
      "text/plain": [
       "Index(['id', 'task', 'description', 'timestamp', 'mins', 'done'], dtype='object')"
      ]
     },
     "execution_count": 9,
     "metadata": {},
     "output_type": "execute_result"
    }
   ],
   "source": [
    "df.columns"
   ]
  },
  {
   "cell_type": "markdown",
   "metadata": {},
   "source": [
    "\n",
    "Quickly summarize the descriptive statistics"
   ]
  },
  {
   "cell_type": "code",
   "execution_count": 10,
   "metadata": {},
   "outputs": [
    {
     "data": {
      "text/html": [
       "<div>\n",
       "<style scoped>\n",
       "    .dataframe tbody tr th:only-of-type {\n",
       "        vertical-align: middle;\n",
       "    }\n",
       "\n",
       "    .dataframe tbody tr th {\n",
       "        vertical-align: top;\n",
       "    }\n",
       "\n",
       "    .dataframe thead th {\n",
       "        text-align: right;\n",
       "    }\n",
       "</style>\n",
       "<table border=\"1\" class=\"dataframe\">\n",
       "  <thead>\n",
       "    <tr style=\"text-align: right;\">\n",
       "      <th></th>\n",
       "      <th>id</th>\n",
       "      <th>mins</th>\n",
       "    </tr>\n",
       "  </thead>\n",
       "  <tbody>\n",
       "    <tr>\n",
       "      <th>count</th>\n",
       "      <td>25.000000</td>\n",
       "      <td>25.000000</td>\n",
       "    </tr>\n",
       "    <tr>\n",
       "      <th>mean</th>\n",
       "      <td>13.000000</td>\n",
       "      <td>123.600000</td>\n",
       "    </tr>\n",
       "    <tr>\n",
       "      <th>std</th>\n",
       "      <td>7.359801</td>\n",
       "      <td>39.987498</td>\n",
       "    </tr>\n",
       "    <tr>\n",
       "      <th>min</th>\n",
       "      <td>1.000000</td>\n",
       "      <td>60.000000</td>\n",
       "    </tr>\n",
       "    <tr>\n",
       "      <th>25%</th>\n",
       "      <td>7.000000</td>\n",
       "      <td>120.000000</td>\n",
       "    </tr>\n",
       "    <tr>\n",
       "      <th>50%</th>\n",
       "      <td>13.000000</td>\n",
       "      <td>120.000000</td>\n",
       "    </tr>\n",
       "    <tr>\n",
       "      <th>75%</th>\n",
       "      <td>19.000000</td>\n",
       "      <td>150.000000</td>\n",
       "    </tr>\n",
       "    <tr>\n",
       "      <th>max</th>\n",
       "      <td>25.000000</td>\n",
       "      <td>180.000000</td>\n",
       "    </tr>\n",
       "  </tbody>\n",
       "</table>\n",
       "</div>"
      ],
      "text/plain": [
       "              id        mins\n",
       "count  25.000000   25.000000\n",
       "mean   13.000000  123.600000\n",
       "std     7.359801   39.987498\n",
       "min     1.000000   60.000000\n",
       "25%     7.000000  120.000000\n",
       "50%    13.000000  120.000000\n",
       "75%    19.000000  150.000000\n",
       "max    25.000000  180.000000"
      ]
     },
     "execution_count": 10,
     "metadata": {},
     "output_type": "execute_result"
    }
   ],
   "source": [
    "df.describe()"
   ]
  },
  {
   "cell_type": "markdown",
   "metadata": {},
   "source": [
    "### Selecting data"
   ]
  },
  {
   "cell_type": "markdown",
   "metadata": {},
   "source": [
    "Lets say we need to find the first three tasks, and get the values for timestamp and description of the task. Pandas provides a few ways to access the data from the dataframe - by label based indexes, numerical indexes or a hybrid approach.\n",
    "\n",
    "Try them out by yourself, by running the code below."
   ]
  },
  {
   "cell_type": "markdown",
   "metadata": {},
   "source": [
    "```python\n",
    "df[0:2] # gives you first three rows, all columns\n",
    "df[0:2][['timestamp', 'description']] # returns a copy with only 'timestamp' and 'description'\n",
    "\n",
    "df.iloc[0:2] # purely integer based indexing, similar to indexing in python. first three rows, all columns\n",
    "df.iloc[0:2][['timestamp', 'description']]\n",
    "df.iloc[[0,1,2],[2,3]]\n",
    "```"
   ]
  },
  {
   "cell_type": "code",
   "execution_count": 11,
   "metadata": {},
   "outputs": [
    {
     "data": {
      "text/html": [
       "<div>\n",
       "<style scoped>\n",
       "    .dataframe tbody tr th:only-of-type {\n",
       "        vertical-align: middle;\n",
       "    }\n",
       "\n",
       "    .dataframe tbody tr th {\n",
       "        vertical-align: top;\n",
       "    }\n",
       "\n",
       "    .dataframe thead th {\n",
       "        text-align: right;\n",
       "    }\n",
       "</style>\n",
       "<table border=\"1\" class=\"dataframe\">\n",
       "  <thead>\n",
       "    <tr style=\"text-align: right;\">\n",
       "      <th></th>\n",
       "      <th>description</th>\n",
       "      <th>timestamp</th>\n",
       "    </tr>\n",
       "  </thead>\n",
       "  <tbody>\n",
       "    <tr>\n",
       "      <th>0</th>\n",
       "      <td>initial kickoff event meeting</td>\n",
       "      <td>2018-11-15 10:40:53.958010</td>\n",
       "    </tr>\n",
       "    <tr>\n",
       "      <th>1</th>\n",
       "      <td>meet cohort</td>\n",
       "      <td>2018-11-15 10:41:38.542572</td>\n",
       "    </tr>\n",
       "    <tr>\n",
       "      <th>2</th>\n",
       "      <td>web search exploring possible ideas</td>\n",
       "      <td>2018-11-15 10:42:43.763348</td>\n",
       "    </tr>\n",
       "  </tbody>\n",
       "</table>\n",
       "</div>"
      ],
      "text/plain": [
       "                           description                  timestamp\n",
       "0        initial kickoff event meeting 2018-11-15 10:40:53.958010\n",
       "1                          meet cohort 2018-11-15 10:41:38.542572\n",
       "2  web search exploring possible ideas 2018-11-15 10:42:43.763348"
      ]
     },
     "execution_count": 11,
     "metadata": {},
     "output_type": "execute_result"
    }
   ],
   "source": [
    "df.iloc[[0,1,2],[2,3]]"
   ]
  },
  {
   "cell_type": "markdown",
   "metadata": {},
   "source": [
    "To better understand how indexes work and show how the last two are different, lets make a copy of our dataframe."
   ]
  },
  {
   "cell_type": "code",
   "execution_count": 12,
   "metadata": {},
   "outputs": [],
   "source": [
    "_df = df.copy()"
   ]
  },
  {
   "cell_type": "markdown",
   "metadata": {},
   "source": [
    "Lets set the index to be task instead of index pandas automatically provided us with."
   ]
  },
  {
   "cell_type": "code",
   "execution_count": 13,
   "metadata": {},
   "outputs": [],
   "source": [
    "_df.set_index('task', inplace=True)"
   ]
  },
  {
   "cell_type": "markdown",
   "metadata": {},
   "source": [
    "Take a look at how the `_df` is different from `df`."
   ]
  },
  {
   "cell_type": "code",
   "execution_count": 14,
   "metadata": {},
   "outputs": [
    {
     "data": {
      "text/plain": [
       "(      id                          description                  timestamp  \\\n",
       " task                                                                       \n",
       " m      1        initial kickoff event meeting 2018-11-15 10:40:53.958010   \n",
       " r      2                          meet cohort 2018-11-15 10:41:38.542572   \n",
       " r      3  web search exploring possible ideas 2018-11-15 10:42:43.763348   \n",
       " m      4                explore project ideas 2018-11-15 10:43:12.314595   \n",
       " m      5              basic python and pandas 2018-11-15 10:45:50.358397   \n",
       " \n",
       "       mins  done  \n",
       " task              \n",
       " m       60  True  \n",
       " r      120  True  \n",
       " r      150  True  \n",
       " m      120  True  \n",
       " m      120  True  ,\n",
       "    id task                          description                  timestamp  \\\n",
       " 0   1    m        initial kickoff event meeting 2018-11-15 10:40:53.958010   \n",
       " 1   2    r                          meet cohort 2018-11-15 10:41:38.542572   \n",
       " 2   3    r  web search exploring possible ideas 2018-11-15 10:42:43.763348   \n",
       " 3   4    m                explore project ideas 2018-11-15 10:43:12.314595   \n",
       " 4   5    m              basic python and pandas 2018-11-15 10:45:50.358397   \n",
       " \n",
       "    mins  done  \n",
       " 0    60  True  \n",
       " 1   120  True  \n",
       " 2   150  True  \n",
       " 3   120  True  \n",
       " 4   120  True  )"
      ]
     },
     "execution_count": 14,
     "metadata": {},
     "output_type": "execute_result"
    }
   ],
   "source": [
    "_df.head(), df.head()"
   ]
  },
  {
   "cell_type": "markdown",
   "metadata": {},
   "source": [
    "Now execute the following cells to find how different indexes can be used for selecting data."
   ]
  },
  {
   "cell_type": "markdown",
   "metadata": {},
   "source": [
    "```python\n",
    "_df.loc['b'] # all rows matching task type b\n",
    "_df.loc[_df['mins']==30, ['description','timestamp']] # returns only a dataframe where the mins equals 30\n",
    "_df.loc[_df['mins']==30, 'description'] # returns a series where the mins equals 30\n",
    "```"
   ]
  },
  {
   "cell_type": "code",
   "execution_count": 16,
   "metadata": {},
   "outputs": [
    {
     "data": {
      "text/html": [
       "<div>\n",
       "<style scoped>\n",
       "    .dataframe tbody tr th:only-of-type {\n",
       "        vertical-align: middle;\n",
       "    }\n",
       "\n",
       "    .dataframe tbody tr th {\n",
       "        vertical-align: top;\n",
       "    }\n",
       "\n",
       "    .dataframe thead th {\n",
       "        text-align: right;\n",
       "    }\n",
       "</style>\n",
       "<table border=\"1\" class=\"dataframe\">\n",
       "  <thead>\n",
       "    <tr style=\"text-align: right;\">\n",
       "      <th></th>\n",
       "      <th>description</th>\n",
       "      <th>mins</th>\n",
       "    </tr>\n",
       "    <tr>\n",
       "      <th>task</th>\n",
       "      <th></th>\n",
       "      <th></th>\n",
       "    </tr>\n",
       "  </thead>\n",
       "  <tbody>\n",
       "    <tr>\n",
       "      <th>r</th>\n",
       "      <td>meet cohort</td>\n",
       "      <td>120</td>\n",
       "    </tr>\n",
       "    <tr>\n",
       "      <th>m</th>\n",
       "      <td>explore project ideas</td>\n",
       "      <td>120</td>\n",
       "    </tr>\n",
       "    <tr>\n",
       "      <th>m</th>\n",
       "      <td>basic python and pandas</td>\n",
       "      <td>120</td>\n",
       "    </tr>\n",
       "    <tr>\n",
       "      <th>b</th>\n",
       "      <td>first blog post</td>\n",
       "      <td>120</td>\n",
       "    </tr>\n",
       "    <tr>\n",
       "      <th>m</th>\n",
       "      <td>refine project ideas, continue pandas</td>\n",
       "      <td>120</td>\n",
       "    </tr>\n",
       "    <tr>\n",
       "      <th>m</th>\n",
       "      <td>review of python skills learned on first proje...</td>\n",
       "      <td>120</td>\n",
       "    </tr>\n",
       "    <tr>\n",
       "      <th>m</th>\n",
       "      <td>exploring dataset</td>\n",
       "      <td>120</td>\n",
       "    </tr>\n",
       "    <tr>\n",
       "      <th>m</th>\n",
       "      <td>review progress, filtering and aggregating</td>\n",
       "      <td>120</td>\n",
       "    </tr>\n",
       "    <tr>\n",
       "      <th>m</th>\n",
       "      <td>explore parsing datafiles to fit in memory</td>\n",
       "      <td>120</td>\n",
       "    </tr>\n",
       "    <tr>\n",
       "      <th>d</th>\n",
       "      <td>hunting down errors in coding</td>\n",
       "      <td>120</td>\n",
       "    </tr>\n",
       "    <tr>\n",
       "      <th>m</th>\n",
       "      <td>refining and correcting for errors in underlyi...</td>\n",
       "      <td>120</td>\n",
       "    </tr>\n",
       "    <tr>\n",
       "      <th>m</th>\n",
       "      <td>reviewing graphing options and ways to aggrega...</td>\n",
       "      <td>120</td>\n",
       "    </tr>\n",
       "  </tbody>\n",
       "</table>\n",
       "</div>"
      ],
      "text/plain": [
       "                                            description  mins\n",
       "task                                                         \n",
       "r                                           meet cohort   120\n",
       "m                                 explore project ideas   120\n",
       "m                               basic python and pandas   120\n",
       "b                                       first blog post   120\n",
       "m                 refine project ideas, continue pandas   120\n",
       "m     review of python skills learned on first proje...   120\n",
       "m                                     exploring dataset   120\n",
       "m            review progress, filtering and aggregating   120\n",
       "m            explore parsing datafiles to fit in memory   120\n",
       "d                         hunting down errors in coding   120\n",
       "m     refining and correcting for errors in underlyi...   120\n",
       "m     reviewing graphing options and ways to aggrega...   120"
      ]
     },
     "execution_count": 16,
     "metadata": {},
     "output_type": "execute_result"
    }
   ],
   "source": [
    "_df.loc[_df['mins']==120, ['description', 'mins'] ]# returns a series where the mins equals 30"
   ]
  },
  {
   "cell_type": "markdown",
   "metadata": {},
   "source": [
    "Finally, check how having different indexes change the way you access the data."
   ]
  },
  {
   "cell_type": "code",
   "execution_count": 17,
   "metadata": {},
   "outputs": [
    {
     "data": {
      "text/html": [
       "<div>\n",
       "<style scoped>\n",
       "    .dataframe tbody tr th:only-of-type {\n",
       "        vertical-align: middle;\n",
       "    }\n",
       "\n",
       "    .dataframe tbody tr th {\n",
       "        vertical-align: top;\n",
       "    }\n",
       "\n",
       "    .dataframe thead th {\n",
       "        text-align: right;\n",
       "    }\n",
       "</style>\n",
       "<table border=\"1\" class=\"dataframe\">\n",
       "  <thead>\n",
       "    <tr style=\"text-align: right;\">\n",
       "      <th></th>\n",
       "      <th>id</th>\n",
       "      <th>task</th>\n",
       "      <th>description</th>\n",
       "      <th>timestamp</th>\n",
       "      <th>mins</th>\n",
       "      <th>done</th>\n",
       "    </tr>\n",
       "  </thead>\n",
       "  <tbody>\n",
       "    <tr>\n",
       "      <th>0</th>\n",
       "      <td>1</td>\n",
       "      <td>m</td>\n",
       "      <td>initial kickoff event meeting</td>\n",
       "      <td>2018-11-15 10:40:53.958010</td>\n",
       "      <td>60</td>\n",
       "      <td>True</td>\n",
       "    </tr>\n",
       "    <tr>\n",
       "      <th>1</th>\n",
       "      <td>2</td>\n",
       "      <td>r</td>\n",
       "      <td>meet cohort</td>\n",
       "      <td>2018-11-15 10:41:38.542572</td>\n",
       "      <td>120</td>\n",
       "      <td>True</td>\n",
       "    </tr>\n",
       "    <tr>\n",
       "      <th>2</th>\n",
       "      <td>3</td>\n",
       "      <td>r</td>\n",
       "      <td>web search exploring possible ideas</td>\n",
       "      <td>2018-11-15 10:42:43.763348</td>\n",
       "      <td>150</td>\n",
       "      <td>True</td>\n",
       "    </tr>\n",
       "  </tbody>\n",
       "</table>\n",
       "</div>"
      ],
      "text/plain": [
       "   id task                          description                  timestamp  \\\n",
       "0   1    m        initial kickoff event meeting 2018-11-15 10:40:53.958010   \n",
       "1   2    r                          meet cohort 2018-11-15 10:41:38.542572   \n",
       "2   3    r  web search exploring possible ideas 2018-11-15 10:42:43.763348   \n",
       "\n",
       "   mins  done  \n",
       "0    60  True  \n",
       "1   120  True  \n",
       "2   150  True  "
      ]
     },
     "execution_count": 17,
     "metadata": {},
     "output_type": "execute_result"
    }
   ],
   "source": [
    "df.loc[0:2] # Purely label-location based indexer for selection by label. This works as index is an integer.\n",
    "#_df.loc[0:2] # Does not work"
   ]
  },
  {
   "cell_type": "markdown",
   "metadata": {},
   "source": [
    "To understand more about how indexes work read through [Zax's tutorial on Pandas MultiIndex](http://www.zaxrosenberg.com/pandas-multiindex-tutorial/)"
   ]
  },
  {
   "cell_type": "markdown",
   "metadata": {},
   "source": [
    "### Aggregation\n",
    "Now that we have some idea about the basics, lets get into the actual analysis. Lets start by getting the total count of each type of task that we have in our dataset."
   ]
  },
  {
   "cell_type": "code",
   "execution_count": 18,
   "metadata": {},
   "outputs": [
    {
     "data": {
      "text/html": [
       "<div>\n",
       "<style scoped>\n",
       "    .dataframe tbody tr th:only-of-type {\n",
       "        vertical-align: middle;\n",
       "    }\n",
       "\n",
       "    .dataframe tbody tr th {\n",
       "        vertical-align: top;\n",
       "    }\n",
       "\n",
       "    .dataframe thead th {\n",
       "        text-align: right;\n",
       "    }\n",
       "</style>\n",
       "<table border=\"1\" class=\"dataframe\">\n",
       "  <thead>\n",
       "    <tr style=\"text-align: right;\">\n",
       "      <th></th>\n",
       "      <th>id</th>\n",
       "      <th>description</th>\n",
       "      <th>timestamp</th>\n",
       "      <th>mins</th>\n",
       "      <th>done</th>\n",
       "    </tr>\n",
       "    <tr>\n",
       "      <th>task</th>\n",
       "      <th></th>\n",
       "      <th></th>\n",
       "      <th></th>\n",
       "      <th></th>\n",
       "      <th></th>\n",
       "    </tr>\n",
       "  </thead>\n",
       "  <tbody>\n",
       "    <tr>\n",
       "      <th>b</th>\n",
       "      <td>2</td>\n",
       "      <td>2</td>\n",
       "      <td>2</td>\n",
       "      <td>2</td>\n",
       "      <td>2</td>\n",
       "    </tr>\n",
       "    <tr>\n",
       "      <th>c</th>\n",
       "      <td>2</td>\n",
       "      <td>2</td>\n",
       "      <td>2</td>\n",
       "      <td>2</td>\n",
       "      <td>2</td>\n",
       "    </tr>\n",
       "    <tr>\n",
       "      <th>d</th>\n",
       "      <td>2</td>\n",
       "      <td>2</td>\n",
       "      <td>2</td>\n",
       "      <td>2</td>\n",
       "      <td>2</td>\n",
       "    </tr>\n",
       "    <tr>\n",
       "      <th>m</th>\n",
       "      <td>13</td>\n",
       "      <td>13</td>\n",
       "      <td>13</td>\n",
       "      <td>13</td>\n",
       "      <td>13</td>\n",
       "    </tr>\n",
       "    <tr>\n",
       "      <th>p</th>\n",
       "      <td>3</td>\n",
       "      <td>3</td>\n",
       "      <td>3</td>\n",
       "      <td>3</td>\n",
       "      <td>3</td>\n",
       "    </tr>\n",
       "    <tr>\n",
       "      <th>r</th>\n",
       "      <td>3</td>\n",
       "      <td>3</td>\n",
       "      <td>3</td>\n",
       "      <td>3</td>\n",
       "      <td>3</td>\n",
       "    </tr>\n",
       "  </tbody>\n",
       "</table>\n",
       "</div>"
      ],
      "text/plain": [
       "      id  description  timestamp  mins  done\n",
       "task                                        \n",
       "b      2            2          2     2     2\n",
       "c      2            2          2     2     2\n",
       "d      2            2          2     2     2\n",
       "m     13           13         13    13    13\n",
       "p      3            3          3     3     3\n",
       "r      3            3          3     3     3"
      ]
     },
     "execution_count": 18,
     "metadata": {},
     "output_type": "execute_result"
    }
   ],
   "source": [
    "df.groupby(['task']).count()"
   ]
  },
  {
   "cell_type": "markdown",
   "metadata": {},
   "source": [
    "## Hashtag analysis\n",
    "\n",
    "Hashtags are simple and easy way to put contextual information and in our data we find them in task descriptions. A task description might have no hashtag at all, a single hashtag or multiple hashtags. To start we need to parse the hashtags out from the description using regular expression. The following shows how multiple hastags are parsed out from a singe description.\n",
    "\n",
    "```python\n",
    "description = pd.Series(['#altair #pandas at project night'])\n",
    "description.str.findall(r'#.*?(?=\\s|$)').tolist()\n",
    "```\n"
   ]
  },
  {
   "cell_type": "code",
   "execution_count": 19,
   "metadata": {},
   "outputs": [],
   "source": [
    "description = pd.Series(['#altair #pandas at project night'])"
   ]
  },
  {
   "cell_type": "code",
   "execution_count": 20,
   "metadata": {},
   "outputs": [
    {
     "data": {
      "text/plain": [
       "['#altair', '#pandas']"
      ]
     },
     "execution_count": 20,
     "metadata": {},
     "output_type": "execute_result"
    }
   ],
   "source": [
    "mylist = description.str.findall(r'#.*?(?=\\s|$)').tolist()\n",
    "flattened_list = [val for sub_list in mylist for val in sub_list]\n",
    "flattened_list"
   ]
  },
  {
   "cell_type": "markdown",
   "metadata": {},
   "source": [
    "Note the result returned by running the above snippet is a list of lists. You probably want to flatten the list."
   ]
  },
  {
   "cell_type": "markdown",
   "metadata": {},
   "source": [
    "## Plotting wih Altair\n",
    "\n",
    "Visualization is a powerful technique to find patterns in a dataset. It is also useful for communicate the findings of an analysis of a dataset. In the next section we will answer some simple questions about our dataset using visualization. While `matplotlib` is one of the most successful packages for the purpose, we will be using [`Altair`](https://altair-viz.github.io/) that provides a simple yet powerful declarative way of building charts.\n",
    "\n",
    "Think of it as SQL, but for charts."
   ]
  },
  {
   "cell_type": "code",
   "execution_count": 21,
   "metadata": {},
   "outputs": [
    {
     "data": {
      "text/plain": [
       "RendererRegistry.enable('notebook')"
      ]
     },
     "execution_count": 21,
     "metadata": {},
     "output_type": "execute_result"
    }
   ],
   "source": [
    "import altair as alt\n",
    "alt.renderers.enable('notebook')"
   ]
  },
  {
   "cell_type": "markdown",
   "metadata": {},
   "source": [
    "We need to enable the renderer based on which environment we are using - `notebook` for jupyter notebooks, `jupterlab` for jupyterlab etc."
   ]
  },
  {
   "cell_type": "markdown",
   "metadata": {},
   "source": [
    "### What are the frequencies of each task type?\n",
    "\n",
    "Lets try to answer the same question we solved above, but this time using `altair`.\n",
    "\n",
    "Below is a `bar diagram` of our data. Lets break down what is going on in the function. From the official documentation:\n",
    "\n",
    "> The key to creating meaningful visualizations is to map properties of the data to visual properties in order to effectively communicate information. In Altair, this mapping of visual properties to data columns is referred to as\n",
    "> an encoding, and is most often expressed through the Chart.encode() method.\n",
    "\n",
    "Here are the 3 steps for building charts in altair\n",
    "\n",
    "- pass your data to alt.Chart\n",
    "```python\n",
    "alt.Chart(df)\n",
    "```\n",
    "- select the type of chart you want to plot\n",
    "```python    \n",
    "alt.Chart(df).mark_bar()\n",
    "```\n",
    "- `encode` map the property of the data to visual properties\n",
    "```python\n",
    "alt.Chart(df).mark_bar().encode(\n",
    "    y='task'      # map the y axis to df['task']\n",
    "    x='count()'   # map the x axis to aggregate function of count defined in altair\n",
    "    color='task') # map the color to df['task']\n",
    "```"
   ]
  },
  {
   "cell_type": "code",
   "execution_count": 23,
   "metadata": {},
   "outputs": [
    {
     "data": {
      "application/javascript": [
       "var spec = {\"config\": {\"view\": {\"width\": 400, \"height\": 300}}, \"data\": {\"name\": \"data-448ed49ee376828e6052f69b2bb3cb98\"}, \"mark\": \"bar\", \"encoding\": {\"color\": {\"type\": \"nominal\", \"field\": \"task\"}, \"x\": {\"type\": \"quantitative\", \"aggregate\": \"count\"}, \"y\": {\"type\": \"nominal\", \"field\": \"task\"}}, \"$schema\": \"https://vega.github.io/schema/vega-lite/v2.6.0.json\", \"datasets\": {\"data-448ed49ee376828e6052f69b2bb3cb98\": [{\"id\": 1, \"task\": \"m\", \"description\": \"initial kickoff event meeting\", \"timestamp\": \"2018-11-15T10:40:53.958010\", \"mins\": 60, \"done\": true}, {\"id\": 2, \"task\": \"r\", \"description\": \"meet cohort\", \"timestamp\": \"2018-11-15T10:41:38.542572\", \"mins\": 120, \"done\": true}, {\"id\": 3, \"task\": \"r\", \"description\": \"web search exploring possible ideas\", \"timestamp\": \"2018-11-15T10:42:43.763348\", \"mins\": 150, \"done\": true}, {\"id\": 4, \"task\": \"m\", \"description\": \"explore project ideas\", \"timestamp\": \"2018-11-15T10:43:12.314595\", \"mins\": 120, \"done\": true}, {\"id\": 5, \"task\": \"m\", \"description\": \"basic python and pandas\", \"timestamp\": \"2018-11-15T10:45:50.358397\", \"mins\": 120, \"done\": true}, {\"id\": 6, \"task\": \"p\", \"description\": \"first project night py101\", \"timestamp\": \"2018-11-15T10:46:28.335922\", \"mins\": 180, \"done\": true}, {\"id\": 7, \"task\": \"b\", \"description\": \"first blog post\", \"timestamp\": \"2018-11-15T10:46:58.588987\", \"mins\": 120, \"done\": true}, {\"id\": 8, \"task\": \"m\", \"description\": \"refine project ideas, continue pandas\", \"timestamp\": \"2018-11-15T10:48:04.462996\", \"mins\": 120, \"done\": true}, {\"id\": 9, \"task\": \"m\", \"description\": \"hangout identify resources, pandas\", \"timestamp\": \"2018-11-15T10:48:53.416604\", \"mins\": 60, \"done\": true}, {\"id\": 10, \"task\": \"m\", \"description\": \"review of python skills learned on first project night\", \"timestamp\": \"2018-11-15T10:49:51.213113\", \"mins\": 120, \"done\": true}, {\"id\": 11, \"task\": \"m\", \"description\": \"second hangout, exploring data\", \"timestamp\": \"2018-11-15T10:50:55.902782\", \"mins\": 60, \"done\": true}, {\"id\": 12, \"task\": \"m\", \"description\": \"exploring dataset\", \"timestamp\": \"2018-11-15T10:51:26.953061\", \"mins\": 120, \"done\": true}, {\"id\": 13, \"task\": \"m\", \"description\": \"review progress, develop workaround for problems\", \"timestamp\": \"2018-11-15T10:53:10.864695\", \"mins\": 60, \"done\": true}, {\"id\": 14, \"task\": \"p\", \"description\": \"second project night webdev\", \"timestamp\": \"2018-11-15T10:53:47.849494\", \"mins\": 180, \"done\": true}, {\"id\": 15, \"task\": \"b\", \"description\": \"second blog post\", \"timestamp\": \"2018-11-15T10:54:08.981182\", \"mins\": 180, \"done\": true}, {\"id\": 16, \"task\": \"m\", \"description\": \"review progress, filtering and aggregating\", \"timestamp\": \"2018-11-15T10:54:47.827929\", \"mins\": 120, \"done\": true}, {\"id\": 17, \"task\": \"m\", \"description\": \"explore parsing datafiles to fit in memory\", \"timestamp\": \"2018-11-15T10:55:46.746260\", \"mins\": 120, \"done\": true}, {\"id\": 18, \"task\": \"c\", \"description\": \"aggregating data, various ways\", \"timestamp\": \"2018-11-15T10:56:39.590670\", \"mins\": 60, \"done\": true}, {\"id\": 19, \"task\": \"d\", \"description\": \"hunting down errors in coding\", \"timestamp\": \"2018-11-15T10:57:13.498375\", \"mins\": 120, \"done\": true}, {\"id\": 20, \"task\": \"m\", \"description\": \"refining and correcting for errors in underlying assumptions\", \"timestamp\": \"2018-11-15T10:58:13.995039\", \"mins\": 120, \"done\": true}, {\"id\": 21, \"task\": \"r\", \"description\": \"explore graphing plugins, Dash, MatPlot, Seaborn\", \"timestamp\": \"2018-11-15T11:00:13.131261\", \"mins\": 180, \"done\": true}, {\"id\": 22, \"task\": \"m\", \"description\": \"reviewing graphing options and ways to aggregate data\", \"timestamp\": \"2018-11-15T11:01:48.783390\", \"mins\": 120, \"done\": true}, {\"id\": 23, \"task\": \"c\", \"description\": \"aggregating and filtering data\", \"timestamp\": \"2018-11-15T11:02:47.564190\", \"mins\": 150, \"done\": true}, {\"id\": 24, \"task\": \"d\", \"description\": \"double checking results and debugging\", \"timestamp\": \"2018-11-15T11:03:37.982159\", \"mins\": 150, \"done\": true}, {\"id\": 25, \"task\": \"p\", \"description\": \"third project night\", \"timestamp\": \"2018-11-15T11:04:19.112410\", \"mins\": 180, \"done\": true}]}};\n",
       "var opt = {};\n",
       "var type = \"vega-lite\";\n",
       "var id = \"f69c3977-d69e-4465-90c3-5eba855e27cc\";\n",
       "\n",
       "var output_area = this;\n",
       "\n",
       "require([\"nbextensions/jupyter-vega/index\"], function(vega) {\n",
       "  var target = document.createElement(\"div\");\n",
       "  target.id = id;\n",
       "  target.className = \"vega-embed\";\n",
       "\n",
       "  var style = document.createElement(\"style\");\n",
       "  style.textContent = [\n",
       "    \".vega-embed .error p {\",\n",
       "    \"  color: firebrick;\",\n",
       "    \"  font-size: 14px;\",\n",
       "    \"}\",\n",
       "  ].join(\"\\\\n\");\n",
       "\n",
       "  // element is a jQuery wrapped DOM element inside the output area\n",
       "  // see http://ipython.readthedocs.io/en/stable/api/generated/\\\n",
       "  // IPython.display.html#IPython.display.Javascript.__init__\n",
       "  element[0].appendChild(target);\n",
       "  element[0].appendChild(style);\n",
       "\n",
       "  vega.render(\"#\" + id, spec, type, opt, output_area);\n",
       "}, function (err) {\n",
       "  if (err.requireType !== \"scripterror\") {\n",
       "    throw(err);\n",
       "  }\n",
       "});\n"
      ],
      "text/plain": [
       "<vega.vegalite.VegaLite at 0xeaf18b0>"
      ]
     },
     "metadata": {
      "jupyter-vega": "#f69c3977-d69e-4465-90c3-5eba855e27cc"
     },
     "output_type": "display_data"
    },
    {
     "data": {
      "text/plain": []
     },
     "execution_count": 23,
     "metadata": {},
     "output_type": "execute_result"
    },
    {
     "data": {
      "image/png": "[encoded data removed]"
     },
     "metadata": {
      "jupyter-vega": "#f69c3977-d69e-4465-90c3-5eba855e27cc"
     },
     "output_type": "display_data"
    }
   ],
   "source": [
    "alt.Chart(df).mark_bar().encode(\n",
    "    y='task',\n",
    "    x='count()',\n",
    "    color='task'\n",
    ")"
   ]
  },
  {
   "cell_type": "markdown",
   "metadata": {},
   "source": [
    "You can choose different chart types by changing `mark_bar` to `mark_point`, `mark_square`, `mark_geoshape` etc. as applicable for your data. Full list is [here](https://altair-viz.github.io/user_guide/marks.html)"
   ]
  },
  {
   "cell_type": "markdown",
   "metadata": {},
   "source": [
    "## Feedback"
   ]
  },
  {
   "cell_type": "markdown",
   "metadata": {},
   "source": [
    "Thanks for attending this project night. We put in a lot of effort to make this useful for you. However, we can not make it better, unless we hear back from you on what you want and collect data to make changes.\n",
    "\n",
    "Please take a few moments to fill in the [small form](https://docs.google.com/forms/d/e/1FAIpQLSePDQlWOibJrF7rI5KrYhzUSNfXp9GMP-6b-bjC8_qSFgYp-w/viewform?usp=pp_url&entry.813953991=https://bit.ly/data_trackcoder) and help us improve it."
   ]
  }
 ],
 "metadata": {
  "kernelspec": {
   "display_name": "Python 3",
   "language": "python",
   "name": "python3"
  },
  "language_info": {
   "codemirror_mode": {
    "name": "ipython",
    "version": 3
   },
   "file_extension": ".py",
   "mimetype": "text/x-python",
   "name": "python",
   "nbconvert_exporter": "python",
   "pygments_lexer": "ipython3",
   "version": "3.7.0"
  },
  "toc": {
   "base_numbering": 1,
   "nav_menu": {},
   "number_sections": true,
   "sideBar": true,
   "skip_h1_title": false,
   "title_cell": "Table of Contents",
   "title_sidebar": "Contents",
   "toc_cell": false,
   "toc_position": {
    "height": "626px",
    "left": "61px",
    "top": "135.117px",
    "width": "415px"
   },
   "toc_section_display": true,
   "toc_window_display": true
  }
 },
 "nbformat": 4,
 "nbformat_minor": 2
}
